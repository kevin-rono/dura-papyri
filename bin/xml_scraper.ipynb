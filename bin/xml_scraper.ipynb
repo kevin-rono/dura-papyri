{
 "cells": [
  {
   "cell_type": "code",
   "execution_count": 1,
   "id": "ed20a30e",
   "metadata": {},
   "outputs": [],
   "source": [
    "import requests\n",
    "import xmltodict\n",
    "import pandas as pd\n",
    "from tqdm import tqdm\n",
    "from bs4 import BeautifulSoup"
   ]
  },
  {
   "cell_type": "code",
   "execution_count": 3,
   "id": "c599ab0e",
   "metadata": {},
   "outputs": [],
   "source": [
    "data = pd.read_csv('Starting Data.xlsx - Sheet1.csv')\n",
    "ids = data[\"ID\"][:-3]"
   ]
  },
  {
   "cell_type": "code",
   "execution_count": 4,
   "id": "5a6bbc96",
   "metadata": {},
   "outputs": [
    {
     "data": {
      "text/plain": [
       "0       5046\n",
       "1      27078\n",
       "2      60015\n",
       "3      63444\n",
       "4      63445\n",
       "       ...  \n",
       "184    44842\n",
       "185    44843\n",
       "186    17225\n",
       "187    31114\n",
       "188    17234\n",
       "Name: ID, Length: 189, dtype: object"
      ]
     },
     "execution_count": 4,
     "metadata": {},
     "output_type": "execute_result"
    }
   ],
   "source": [
    "ids"
   ]
  },
  {
   "cell_type": "code",
   "execution_count": 6,
   "id": "fde27997",
   "metadata": {},
   "outputs": [
    {
     "name": "stderr",
     "output_type": "stream",
     "text": [
      "100%|█████████████████████████████████████████| 189/189 [00:21<00:00,  8.78it/s]\n"
     ]
    }
   ],
   "source": [
    "xmls = {}\n",
    "failed_ids = []\n",
    "\n",
    "for id_ in tqdm(ids):\n",
    "    try:\n",
    "        url = f'https://papyri.info/hgv/{id_}/source'\n",
    "        response = requests.get(url)\n",
    "        xmls[id_] = xmltodict.parse(response.content)\n",
    "    except:\n",
    "        failed_ids += [id_]\n",
    "        "
   ]
  },
  {
   "cell_type": "code",
   "execution_count": 7,
   "id": "a49014ba",
   "metadata": {},
   "outputs": [],
   "source": [
    "xml_links = {}\n",
    "xml_links['60015'] = 'https://raw.githubusercontent.com/papyri/idp.data/master/DCLP/61/60015.xml'\n",
    "xml_links['63444'] = 'https://raw.githubusercontent.com/papyri/idp.data/master/DCLP/64/63444.xml'\n",
    "xml_links['63445'] = 'https://raw.githubusercontent.com/papyri/idp.data/master/DCLP/64/63445.xml'\n",
    "xml_links['63446'] = 'https://raw.githubusercontent.com/papyri/idp.data/master/DCLP/64/63446.xml'\n",
    "xml_links['59208'] = 'https://raw.githubusercontent.com/papyri/idp.data/master/DCLP/60/59208.xml'\n",
    "xml_links['64014'] = 'https://raw.githubusercontent.com/papyri/idp.data/master/DCLP/65/64014.xml'\n",
    "xml_links['64015'] = 'https://raw.githubusercontent.com/papyri/idp.data/master/DCLP/65/64015.xml'\n",
    "xml_links['64016'] = 'https://raw.githubusercontent.com/papyri/idp.data/master/DCLP/65/64016.xml'\n",
    "xml_links['60444'] = 'https://raw.githubusercontent.com/papyri/idp.data/master/DCLP/61/60444.xml' \n",
    "xml_links['171914'] = 'https://raw.githubusercontent.com/papyri/idp.data/master/DCLP/172/171914.xml'\n",
    "xml_links['44795'] = 'https://papyri.info/hgv/44795a/source'"
   ]
  },
  {
   "cell_type": "code",
   "execution_count": 8,
   "id": "10767c4b",
   "metadata": {},
   "outputs": [
    {
     "name": "stderr",
     "output_type": "stream",
     "text": [
      "100%|███████████████████████████████████████████| 11/11 [00:01<00:00,  6.41it/s]\n"
     ]
    }
   ],
   "source": [
    "for id_ in tqdm(list(xml_links.keys())):\n",
    "    url = xml_links[id_]\n",
    "    response = requests.get(url)\n",
    "    xmls[id_] = xmltodict.parse(response.content)"
   ]
  },
  {
   "cell_type": "code",
   "execution_count": 26,
   "id": "a1b4ce61",
   "metadata": {},
   "outputs": [],
   "source": [
    "duplicates = [942942, 942943, 942944, 942945, 942946, 942947]"
   ]
  },
  {
   "cell_type": "code",
   "execution_count": 27,
   "id": "ea325445",
   "metadata": {},
   "outputs": [],
   "source": [
    "no_redirects = [942948, 942949, 942950, 942951, 942953, 942956, 942957, 942958, \n",
    "               90781, 942952, 90780, 171911, 61914, 171909, 171910, 171912, 171913]"
   ]
  },
  {
   "cell_type": "code",
   "execution_count": null,
   "id": "4aa2d66b",
   "metadata": {},
   "outputs": [],
   "source": [
    "multiple = [44795]"
   ]
  },
  {
   "cell_type": "code",
   "execution_count": 9,
   "id": "a3daed7f",
   "metadata": {},
   "outputs": [
    {
     "data": {
      "text/plain": [
       "166"
      ]
     },
     "execution_count": 9,
     "metadata": {},
     "output_type": "execute_result"
    }
   ],
   "source": [
    "len(xmls)"
   ]
  },
  {
   "cell_type": "code",
   "execution_count": 45,
   "id": "de4cfedf",
   "metadata": {},
   "outputs": [],
   "source": [
    "import json \n",
    "\n",
    "with open(\"xmls.json\", \"w\") as outfile:\n",
    "    json.dump(xmls, outfile)"
   ]
  }
 ],
 "metadata": {
  "kernelspec": {
   "display_name": "Python 3 (ipykernel)",
   "language": "python",
   "name": "python3"
  },
  "language_info": {
   "codemirror_mode": {
    "name": "ipython",
    "version": 3
   },
   "file_extension": ".py",
   "mimetype": "text/x-python",
   "name": "python",
   "nbconvert_exporter": "python",
   "pygments_lexer": "ipython3",
   "version": "3.9.5"
  }
 },
 "nbformat": 4,
 "nbformat_minor": 5
}
