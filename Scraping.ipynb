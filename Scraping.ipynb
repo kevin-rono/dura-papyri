{
 "cells": [
  {
   "cell_type": "code",
   "execution_count": 1,
   "id": "ed20a30e",
   "metadata": {},
   "outputs": [],
   "source": [
    "import numpy as np\n",
    "import pandas as pd\n",
    "from tqdm import tqdm\n",
    "from bs4 import BeautifulSoup"
   ]
  },
  {
   "cell_type": "code",
   "execution_count": 2,
   "id": "0fb827c0",
   "metadata": {},
   "outputs": [],
   "source": [
    "import requests\n",
    "import xmltodict"
   ]
  },
  {
   "cell_type": "code",
   "execution_count": 3,
   "id": "c599ab0e",
   "metadata": {},
   "outputs": [],
   "source": [
    "data = pd.read_csv('Starting Data.xlsx - Sheet1.csv')\n",
    "ids = data[\"ID\"][:-3]"
   ]
  },
  {
   "cell_type": "code",
   "execution_count": 4,
   "id": "5a6bbc96",
   "metadata": {},
   "outputs": [
    {
     "data": {
      "text/plain": [
       "0       5046\n",
       "1      27078\n",
       "2      60015\n",
       "3      63444\n",
       "4      63445\n",
       "       ...  \n",
       "184    44842\n",
       "185    44843\n",
       "186    17225\n",
       "187    31114\n",
       "188    17234\n",
       "Name: ID, Length: 189, dtype: object"
      ]
     },
     "execution_count": 4,
     "metadata": {},
     "output_type": "execute_result"
    }
   ],
   "source": [
    "ids"
   ]
  },
  {
   "cell_type": "code",
   "execution_count": 6,
   "id": "fde27997",
   "metadata": {},
   "outputs": [
    {
     "name": "stderr",
     "output_type": "stream",
     "text": [
      "100%|█████████████████████████████████████████| 189/189 [00:21<00:00,  8.78it/s]\n"
     ]
    }
   ],
   "source": [
    "xmls = {}\n",
    "failed_ids = []\n",
    "\n",
    "for id_ in tqdm(ids):\n",
    "    try:\n",
    "        url = f'https://papyri.info/hgv/{id_}/source'\n",
    "        response = requests.get(url)\n",
    "        xmls[id_] = xmltodict.parse(response.content)\n",
    "    except:\n",
    "        failed_ids += [id_]\n",
    "        "
   ]
  },
  {
   "cell_type": "code",
   "execution_count": 7,
   "id": "a49014ba",
   "metadata": {},
   "outputs": [],
   "source": [
    "xml_links = {}\n",
    "xml_links['60015'] = 'https://raw.githubusercontent.com/papyri/idp.data/master/DCLP/61/60015.xml'\n",
    "xml_links['63444'] = 'https://raw.githubusercontent.com/papyri/idp.data/master/DCLP/64/63444.xml'\n",
    "xml_links['63445'] = 'https://raw.githubusercontent.com/papyri/idp.data/master/DCLP/64/63445.xml'\n",
    "xml_links['63446'] = 'https://raw.githubusercontent.com/papyri/idp.data/master/DCLP/64/63446.xml'\n",
    "xml_links['59208'] = 'https://raw.githubusercontent.com/papyri/idp.data/master/DCLP/60/59208.xml'\n",
    "xml_links['64014'] = 'https://raw.githubusercontent.com/papyri/idp.data/master/DCLP/65/64014.xml'\n",
    "xml_links['64015'] = 'https://raw.githubusercontent.com/papyri/idp.data/master/DCLP/65/64015.xml'\n",
    "xml_links['64016'] = 'https://raw.githubusercontent.com/papyri/idp.data/master/DCLP/65/64016.xml'\n",
    "xml_links['60444'] = 'https://raw.githubusercontent.com/papyri/idp.data/master/DCLP/61/60444.xml' \n",
    "xml_links['171914'] = 'https://raw.githubusercontent.com/papyri/idp.data/master/DCLP/172/171914.xml'\n",
    "xml_links['44795'] = 'https://papyri.info/hgv/44795a/source'"
   ]
  },
  {
   "cell_type": "code",
   "execution_count": 8,
   "id": "10767c4b",
   "metadata": {},
   "outputs": [
    {
     "name": "stderr",
     "output_type": "stream",
     "text": [
      "100%|███████████████████████████████████████████| 11/11 [00:01<00:00,  6.41it/s]\n"
     ]
    }
   ],
   "source": [
    "for id_ in tqdm(list(xml_links.keys())):\n",
    "    url = xml_links[id_]\n",
    "    response = requests.get(url)\n",
    "    xmls[id_] = xmltodict.parse(response.content)"
   ]
  },
  {
   "cell_type": "code",
   "execution_count": 26,
   "id": "a1b4ce61",
   "metadata": {},
   "outputs": [],
   "source": [
    "duplicates = [942942, 942943, 942944, 942945, 942946, 942947]"
   ]
  },
  {
   "cell_type": "code",
   "execution_count": 27,
   "id": "ea325445",
   "metadata": {},
   "outputs": [],
   "source": [
    "no_redirects = [942948, 942949, 942950, 942951, 942953, 942956, 942957, 942958, \n",
    "               90781, 942952, 90780, 171911, 61914, 171909, 171910, 171912, 171913]"
   ]
  },
  {
   "cell_type": "code",
   "execution_count": null,
   "id": "4aa2d66b",
   "metadata": {},
   "outputs": [],
   "source": [
    "multiple = [44795]"
   ]
  },
  {
   "cell_type": "code",
   "execution_count": 9,
   "id": "a3daed7f",
   "metadata": {},
   "outputs": [
    {
     "data": {
      "text/plain": [
       "166"
      ]
     },
     "execution_count": 9,
     "metadata": {},
     "output_type": "execute_result"
    }
   ],
   "source": [
    "len(xmls)"
   ]
  },
  {
   "cell_type": "code",
   "execution_count": 45,
   "id": "de4cfedf",
   "metadata": {},
   "outputs": [],
   "source": [
    "import json \n",
    "\n",
    "with open(\"xmls.json\", \"w\") as outfile:\n",
    "    json.dump(xmls, outfile)"
   ]
  },
  {
   "cell_type": "code",
   "execution_count": null,
   "id": "031c1c8b",
   "metadata": {},
   "outputs": [],
   "source": []
  },
  {
   "cell_type": "code",
   "execution_count": 65,
   "id": "52f73a86",
   "metadata": {},
   "outputs": [],
   "source": [
    "def get_content(item_id):\n",
    "    return xmls[item_id]['TEI']['teiHeader']['fileDesc']['titleStmt']['title']\n",
    "\n",
    "def get_img_url(item_id):\n",
    "    divs = xmls[item_id]['TEI']['text']['body']['div']\n",
    "    for d in divs:\n",
    "        if d['@type'] == \"figure\":\n",
    "            try:\n",
    "                return d['p']['figure']['graphic']['@url']\n",
    "            except:\n",
    "                return d['p']['figure'][0]['graphic']['@url']\n",
    "            \n",
    "def get_material(item_id):\n",
    "    return xmls[item_id]['TEI']['teiHeader']['fileDesc']['sourceDesc']['msDesc']['physDesc']['objectDesc']['supportDesc']['support']['material']\n",
    "\n",
    "def get_origin(item_id):\n",
    "    return xmls[item_id]['TEI']['teiHeader']['fileDesc']['sourceDesc']['msDesc']['history']['origin']['origPlace']\n"
   ]
  },
  {
   "cell_type": "code",
   "execution_count": 67,
   "id": "76fb00b7",
   "metadata": {},
   "outputs": [
    {
     "name": "stdout",
     "output_type": "stream",
     "text": [
      "Fragmentary Contract http://wwwapp.cc.columbia.edu/ldpd/app/apis/item?mode=item&key=yale.apis.3100110000 Pergament Dura - Europos\n",
      "Official Letter (?) http://wwwapp.cc.columbia.edu/ldpd/app/apis/item?mode=item&key=yale.apis.4400010000 Papyrus Dura - Europos\n",
      "Deed of Sale http://wwwapp.cc.columbia.edu/ldpd/app/apis/item?mode=item&key=yale.apis.3100230000 Pergament Dura - Europos\n",
      "Fragmentary Contract http://wwwapp.cc.columbia.edu/ldpd/app/apis/item?mode=item&key=yale.apis.4401200000 Papyrus Dura - Europos\n",
      "Fragmentary List of Names (?) http://wwwapp.cc.columbia.edu/ldpd/app/apis/item?mode=item&key=yale.apis.4400860000 Papyrus Dura - Europos\n",
      "Fragmentary Account http://wwwapp.cc.columbia.edu/ldpd/app/apis/item?mode=item&key=yale.apis.4400790000 Papyrus Dura - Europos\n",
      "Greek Fragments http://wwwapp.cc.columbia.edu/ldpd/app/apis/item?mode=item&key=yale.apis.4400654200 Papyrus Dura - Europos\n",
      "Greek Fragments http://wwwapp.cc.columbia.edu/ldpd/app/apis/item?mode=item&key=yale.apis.4401170000 Papyrus Dura - Europos\n",
      "Greek Fragment http://wwwapp.cc.columbia.edu/ldpd/app/apis/item?mode=item&key=yale.apis.4400770000 Papyrus Dura - Europos\n",
      "Greek Fragment http://wwwapp.cc.columbia.edu/ldpd/app/apis/item?mode=item&key=yale.apis.4400810000 Papyrus Dura - Europos\n",
      "Greek Fragments http://wwwapp.cc.columbia.edu/ldpd/app/apis/item?mode=item&key=yale.apis.4401150000 Papyrus Dura - Europos\n",
      "Greek Fragments http://wwwapp.cc.columbia.edu/ldpd/app/apis/item?mode=item&key=yale.apis.4400970000 Papyrus Dura - Europos\n",
      "Names None Papyrus Dura - Europos\n",
      "Roster? http://hdl.handle.net/10079/digcoll/2771868 papyrus Dura - Europos\n",
      "P.CtYBR inv. DP 23 fr. a None Papyrus Dura - Europos\n",
      "P.CtYBR inv. DP 23 fr. b None Papyrus Dura - Europos\n",
      "P.CtYBR inv. DP 23 fr. h None Papyrus Dura - Europos\n",
      "Roster? None papyrus Dura - Europos\n",
      "keiner None papyrus Dura - Europos\n",
      "keiner None papyrus Dura - Europos\n",
      "keiner None papyrus Dura - Europos\n",
      "Acta diurna? None papyrus Dura - Europos\n",
      "keiner None papyrus Dura - Europos\n",
      "keiner None papyrus Dura - Europos\n",
      "keiner None papyrus Dura - Europos\n",
      "keiner None papyrus Dura - Europos\n",
      "keiner None papyrus Dura - Europos\n",
      "Roster? None papyrus Dura - Europos\n",
      "Acta diurna? None papyrus Dura - Europos\n",
      "Divorce http://wwwapp.cc.columbia.edu/ldpd/app/apis/item?mode=item&key=yale.apis.3100220000 Pergament Ossa (in der Nähe von Dura - Europos)\n",
      "List of Cavalrymen http://wwwapp.cc.columbia.edu/ldpd/app/apis/item?mode=item&key=yale.apis.4400384100 Papyrus Dura - Europos\n",
      "List of Names http://wwwapp.cc.columbia.edu/ldpd/app/apis/item?mode=item&key=yale.apis.4400634100 Papyrus Dura - Europos\n",
      "Letters from Provincial Headquarters, Assigning Mounts http://wwwapp.cc.columbia.edu/ldpd/app/apis/item?mode=item&key=yale.apis.4400080000 Papyrus Dura - Europos\n",
      "Fragment of Letters http://wwwapp.cc.columbia.edu/ldpd/app/apis/item?mode=item&key=yale.apis.4400320000 Papyrus Dura - Europos\n",
      "Lettres circulaires http://wwwapp.cc.columbia.edu/ldpd/app/apis/item?mode=item&key=yale.apis.4400040000 Papyrus Dura - Europos\n",
      "Opisthograph Fragment http://wwwapp.cc.columbia.edu/ldpd/app/apis/item?mode=item&key=yale.apis.4401130000 Papyrus Dura - Europos\n",
      "Latin Fragment http://wwwapp.cc.columbia.edu/ldpd/app/apis/item?mode=item&key=yale.apis.4400800000 Papyrus Dura - Europos\n",
      "Fragment of Letters http://wwwapp.cc.columbia.edu/ldpd/app/apis/item?mode=item&key=yale.apis.4400420000 Papyrus Dura - Europos\n",
      "Fragmentary Correspondence http://wwwapp.cc.columbia.edu/ldpd/app/apis/item?mode=item&key=yale.apis.4400210000 Papyrus Dura - Europos\n",
      "Fragments of Letters http://wwwapp.cc.columbia.edu/ldpd/app/apis/item?mode=item&key=yale.apis.4400280000 Papyrus Dura - Europos\n",
      "Fragmentary Letter http://wwwapp.cc.columbia.edu/ldpd/app/apis/item?mode=item&key=yale.apis.4400370000 Papyrus Dura - Europos\n",
      "Fragments de lettres http://wwwapp.cc.columbia.edu/ldpd/app/apis/item?mode=item&key=yale.apis.4400510000 Papyrus Dura - Europos\n",
      "Fragment of Letter http://wwwapp.cc.columbia.edu/ldpd/app/apis/item?mode=item&key=yale.apis.4400450000 Papyrus Dura - Europos\n",
      "Fragmentary Letter http://wwwapp.cc.columbia.edu/ldpd/app/apis/item?mode=item&key=yale.apis.4400520000 Papyrus Dura - Europos\n",
      "Latin Fragment http://wwwapp.cc.columbia.edu/ldpd/app/apis/item?mode=item&key=yale.apis.4400610000 Papyrus Dura - Europos\n",
      "Fragmentary Correspondence http://wwwapp.cc.columbia.edu/ldpd/app/apis/item?mode=item&key=yale.apis.4400100031 Papyrus Dura - Europos\n",
      "Fragment of Letter http://wwwapp.cc.columbia.edu/ldpd/app/apis/item?mode=item&key=yale.apis.4400430000 Papyrus Dura - Europos\n",
      "Latin Fragment http://wwwapp.cc.columbia.edu/ldpd/app/apis/item?mode=item&key=yale.apis.4400660000 Papyrus Dura - Europos\n",
      "keiner None papyrus Dura - Europos\n",
      "Fragment of Letter http://wwwapp.cc.columbia.edu/ldpd/app/apis/item?mode=item&key=yale.apis.4400680000 Papyrus Dura - Europos\n",
      "Labels http://wwwapp.cc.columbia.edu/ldpd/app/apis/item?mode=item&key=yale.apis.4400600000 Papyrus Dura - Europos\n",
      "Greek Fragment http://wwwapp.cc.columbia.edu/ldpd/app/apis/item?mode=item&key=yale.apis.4400130032 Papyrus Dura - Europos\n",
      "Lettre officielle concernant les «frumentations» http://wwwapp.cc.columbia.edu/ldpd/app/apis/item?mode=item&key=yale.apis.4400180000 Papyrus Dura - Europos\n",
      "Fragmentary Letter http://wwwapp.cc.columbia.edu/ldpd/app/apis/item?mode=item&key=yale.apis.4400330000 Papyrus Dura - Europos\n",
      "List of Principales http://wwwapp.cc.columbia.edu/ldpd/app/apis/item?mode=item&key=yale.apis.4400414100 Papyrus Dura - Europos\n",
      "File of Letters http://wwwapp.cc.columbia.edu/ldpd/app/apis/item?mode=item&key=yale.apis.4401050000 Papyrus Dura - Europos\n",
      "Roster http://wwwapp.cc.columbia.edu/ldpd/app/apis/item?mode=item&key=yale.apis.4400114100 Papyrus Dura - Europos\n",
      "List of Names http://wwwapp.cc.columbia.edu/ldpd/app/apis/item?mode=item&key=yale.apis.4400550000 Papyrus Dura - Europos\n",
      "Fragment of Letter http://wwwapp.cc.columbia.edu/ldpd/app/apis/item?mode=item&key=yale.apis.4400470000 Papyrus Dura - Europos\n",
      "Roster http://wwwapp.cc.columbia.edu/ldpd/app/apis/item?mode=item&key=yale.apis.4400124100 Papyrus Dura - Europos\n",
      "List of Names http://wwwapp.cc.columbia.edu/ldpd/app/apis/item?mode=item&key=yale.apis.4400264200 Papyrus Dura - Europos\n",
      "Marking on Equipment None Leder Dura - Europos\n",
      "Fragmentary Contract http://wwwapp.cc.columbia.edu/ldpd/app/apis/item?mode=item&key=yale.apis.4401120000 Papyrus Dura - Europos\n",
      "Fragmentary Contract http://wwwapp.cc.columbia.edu/ldpd/app/apis/item?mode=item&key=yale.apis.4401190000 Papyrus Dura - Europos\n",
      "List of Names http://wwwapp.cc.columbia.edu/ldpd/app/apis/item?mode=item&key=yale.apis.4400394200 Papyrus Dura - Europos\n",
      "Latin Fragment http://wwwapp.cc.columbia.edu/ldpd/app/apis/item?mode=item&key=yale.apis.4400500000 Papyrus Dura - Europos\n",
      "Latin Fragment http://wwwapp.cc.columbia.edu/ldpd/app/apis/item?mode=item&key=yale.apis.4400394100 Papyrus Dura - Europos\n",
      "Roster? None papyrus Dura - Europos\n",
      "Letters to the Tribune from a Praepositus http://wwwapp.cc.columbia.edu/ldpd/app/apis/item?mode=item&key=yale.apis.4400150000 Papyrus Dura - Europos\n",
      "Fragment of Letter http://wwwapp.cc.columbia.edu/ldpd/app/apis/item?mode=item&key=yale.apis.4400230000 Papyrus Dura - Europos\n",
      "Latin Fragment http://wwwapp.cc.columbia.edu/ldpd/app/apis/item?mode=item&key=yale.apis.4400560000 Papyrus Dura - Europos\n",
      "Copy of Letter with Lists of Names by Centuries and Turmae http://wwwapp.cc.columbia.edu/ldpd/app/apis/item?mode=item&key=yale.apis.4400164200 Papyrus Dura - Europos\n",
      "Roster http://wwwapp.cc.columbia.edu/ldpd/app/apis/item?mode=item&key=yale.apis.4400124200 Papyrus Dura - Europos\n",
      "Roster? List of Names by Centuries http://wwwapp.cc.columbia.edu/ldpd/app/apis/item?mode=item&key=yale.apis.4400164100 Papyrus Dura - Europos\n",
      "List of Names by Centuries, with Dates by Day and Month http://wwwapp.cc.columbia.edu/ldpd/app/apis/item?mode=item&key=yale.apis.4400294100 Papyrus Dura - Europos\n",
      "Morning Report http://wwwapp.cc.columbia.edu/ldpd/app/apis/item?mode=item&key=yale.apis.4400034100 Papyrus Dura - Europos\n",
      "Deed of Sale http://wwwapp.cc.columbia.edu/ldpd/app/apis/item?mode=item&key=yale.apis.4400880000 Papyrus Dura - Europos\n",
      "Receipt of Money for Purchase of Barley http://wwwapp.cc.columbia.edu/ldpd/app/apis/item?mode=item&key=yale.apis.4400930000 Papyrus Dura - Europos\n",
      "The Feriale Duranum http://wwwapp.cc.columbia.edu/ldpd/app/apis/item?mode=item&key=yale.apis.4400020000 Papyrus Dura - Europos\n",
      "Tabulation http://wwwapp.cc.columbia.edu/ldpd/app/apis/item?mode=item&key=yale.apis.4400384200 Papyrus Dura - Europos\n",
      "Tabulation or Morning Report http://wwwapp.cc.columbia.edu/ldpd/app/apis/item?mode=item&key=yale.apis.4400194100 Papyrus Dura - Europos\n",
      "Tabulation http://wwwapp.cc.columbia.edu/ldpd/app/apis/item?mode=item&key=yale.apis.4400270000 Papyrus Dura - Europos\n",
      "Greek Fragment http://wwwapp.cc.columbia.edu/ldpd/app/apis/item?mode=item&key=yale.apis.4400194200 Papyrus Dura - Europos\n",
      "Deed of Sale http://wwwapp.cc.columbia.edu/ldpd/app/apis/item?mode=item&key=yale.apis.4401010000 Papyrus Sachare (in der Nähe von Dura - Europos)\n",
      "Greek Fragment http://wwwapp.cc.columbia.edu/ldpd/app/apis/item?mode=item&key=yale.apis.4400414200 Papyrus Dura - Europos\n",
      "Morning Report (?) http://wwwapp.cc.columbia.edu/ldpd/app/apis/item?mode=item&key=yale.apis.4400314100 Papyrus Dura - Europos\n",
      "Morning Report (?) http://wwwapp.cc.columbia.edu/ldpd/app/apis/item?mode=item&key=yale.apis.4400654100 Papyrus Dura - Europos\n",
      "Tours de garde ? http://wwwapp.cc.columbia.edu/ldpd/app/apis/item?mode=item&key=yale.apis.4400314200 Papyrus Dura - Europos\n",
      "Latin Fragment http://wwwapp.cc.columbia.edu/ldpd/app/apis/item?mode=item&key=yale.apis.4400780000 Papyrus Dura - Europos\n",
      "Marriage Contract http://wwwapp.cc.columbia.edu/ldpd/app/apis/item?mode=item&key=yale.apis.4400740000 Papyrus Qatna (in der Nähe von Dura - Europos)\n",
      "Fragments de lettres http://wwwapp.cc.columbia.edu/ldpd/app/apis/item?mode=item&key=yale.apis.4400404100 Papyrus Dura - Europos\n",
      "List of Names by Turmae and Centuries http://wwwapp.cc.columbia.edu/ldpd/app/apis/item?mode=item&key=yale.apis.4400344200 Papyrus Dura - Europos\n",
      "Morning Report http://wwwapp.cc.columbia.edu/ldpd/app/apis/item?mode=item&key=yale.apis.4400174100 Papyrus Dura - Europos\n",
      "Morning Report (?) http://wwwapp.cc.columbia.edu/ldpd/app/apis/item?mode=item&key=yale.apis.4400674100 Papyrus Dura - Europos\n",
      "Guard Roster http://wwwapp.cc.columbia.edu/ldpd/app/apis/item?mode=item&key=yale.apis.4400174200 Papyrus Dura - Europos\n",
      "Listes de soldats et fragments de lettres (?) http://wwwapp.cc.columbia.edu/ldpd/app/apis/item?mode=item&key=yale.apis.4400404200 Papyrus Dura - Europos\n",
      "Fragments of Letters http://wwwapp.cc.columbia.edu/ldpd/app/apis/item?mode=item&key=yale.apis.4400590000 Papyrus Dura - Europos\n",
      "Guard Roster (?) http://wwwapp.cc.columbia.edu/ldpd/app/apis/item?mode=item&key=yale.apis.4400674200 Papyrus Dura - Europos\n",
      "Decision of a Tribune http://wwwapp.cc.columbia.edu/ldpd/app/apis/item?mode=item&key=yale.apis.4400060000 Papyrus Dura - Europos\n",
      "Decision of a Tribune http://wwwapp.cc.columbia.edu/ldpd/app/apis/item?mode=item&key=yale.apis.4400050000 Papyrus Dura - Europos\n",
      "Decision of a Tribune (?) http://wwwapp.cc.columbia.edu/ldpd/app/apis/item?mode=item&key=yale.apis.4401180000 Papyrus Dura - Europos\n",
      "Names and Notations by Centuries and Turmae; List of Principales? http://wwwapp.cc.columbia.edu/ldpd/app/apis/item?mode=item&key=yale.apis.4400764100 Papyrus Dura - Europos\n",
      "List of Names by Centuries, with Numerals http://wwwapp.cc.columbia.edu/ldpd/app/apis/item?mode=item&key=yale.apis.4400764200 Papyrus Dura - Europos\n",
      "Opisthograph Fragment http://wwwapp.cc.columbia.edu/ldpd/app/apis/item?mode=item&key=yale.apis.4401160000 Papyrus Dura - Europos\n",
      "Morning Report http://wwwapp.cc.columbia.edu/ldpd/app/apis/item?mode=item&key=yale.apis.4400220000 Papyrus Dura - Europos\n",
      "List of Names http://wwwapp.cc.columbia.edu/ldpd/app/apis/item?mode=item&key=yale.apis.4400304100 Papyrus Dura - Europos\n",
      "List of Names http://wwwapp.cc.columbia.edu/ldpd/app/apis/item?mode=item&key=yale.apis.4400304200 Papyrus Dura - Europos\n",
      "Morning Report http://wwwapp.cc.columbia.edu/ldpd/app/apis/item?mode=item&key=yale.apis.4400094100 Papyrus Dura - Europos\n",
      "Record of Accessions by Transfer http://wwwapp.cc.columbia.edu/ldpd/app/apis/item?mode=item&key=yale.apis.4400264100 Papyrus Dura - Europos\n",
      "Copy of Letter Assigning Mounts http://wwwapp.cc.columbia.edu/ldpd/app/apis/item?mode=item&key=yale.apis.4400634200 Papyrus Dura - Europos\n",
      "Fragment http://wwwapp.cc.columbia.edu/ldpd/app/apis/item?mode=item&key=yale.apis.4400540000 Papyrus Dura - Europos\n",
      "Guard Roster http://wwwapp.cc.columbia.edu/ldpd/app/apis/item?mode=item&key=yale.apis.4400094200 Papyrus Dura - Europos\n",
      "Letter from a Governor of Syria http://wwwapp.cc.columbia.edu/ldpd/app/apis/item?mode=item&key=yale.apis.4400070000 Papyrus Dura - Europos\n",
      "List by Centuries of Soldiers of the Same Year http://wwwapp.cc.columbia.edu/ldpd/app/apis/item?mode=item&key=yale.apis.4400460000 Papyrus Dura - Europos\n",
      "Fragment of the Copy of a Letter http://wwwapp.cc.columbia.edu/ldpd/app/apis/item?mode=item&key=yale.apis.4400294200 Papyrus Dura - Europos\n",
      "List of Names with Ranks http://wwwapp.cc.columbia.edu/ldpd/app/apis/item?mode=item&key=yale.apis.4400360000 Papyrus Dura - Europos\n",
      "Fragments of an Official Journal http://wwwapp.cc.columbia.edu/ldpd/app/apis/item?mode=item&key=yale.apis.4400140000 Papyrus Dura - Europos\n",
      "Strength Report http://wwwapp.cc.columbia.edu/ldpd/app/apis/item?mode=item&key=yale.apis.4400344100 Papyrus Dura - Europos\n",
      "Roster http://wwwapp.cc.columbia.edu/ldpd/app/apis/item?mode=item&key=yale.apis.4400344200 Papyrus Dura - Europos\n",
      "Deposit http://wwwapp.cc.columbia.edu/ldpd/app/apis/item?mode=item&key=yale.apis.4400730000 Papyrus Dura - Europos\n",
      "List of Men and Mounts http://wwwapp.cc.columbia.edu/ldpd/app/apis/item?mode=item&key=yale.apis.4400034200 Papyrus Dura - Europos\n",
      "Divorce http://wwwapp.cc.columbia.edu/ldpd/app/apis/item?mode=item&key=yale.apis.4400900000 Papyrus Dura - Europos\n",
      "File Copy of a Sale Subject to Redemption None Pergament Dura - Europos\n",
      "Application of a Tax - Farmer None Pergament / Leder Dura - Europos\n",
      "Report of Litigation (?) http://wwwapp.cc.columbia.edu/ldpd/app/apis/item?mode=item&key=yale.apis.3100290000 Pergament / Leder Dura - Europos\n",
      "Registry Roll of Copies http://wwwapp.cc.columbia.edu/ldpd/app/apis/item?mode=item&key=yale.apis.3100280031 Pergament Dura - Europos\n",
      "Deed of Gift http://wwwapp.cc.columbia.edu/ldpd/app/apis/item?mode=item&key=yale.apis.3100210000 Pergament Dura - Europos\n",
      "Mutual Distribution http://wwwapp.cc.columbia.edu/ldpd/app/apis/item?mode=item&key=yale.apis.3100400000 Pergament Dura - Europos\n",
      "Antichretic Loan None Pergament Dura - Europos\n",
      "Fragmentary Contract http://wwwapp.cc.columbia.edu/ldpd/app/apis/item?mode=item&key=yale.apis.3100390000 Pergament Dura - Europos\n",
      "Fragmentary Contract http://wwwapp.cc.columbia.edu/ldpd/app/apis/item?mode=item&key=yale.apis.3100310000 Pergament Dura - Europos\n",
      "Antichretic Loan http://wwwapp.cc.columbia.edu/ldpd/app/apis/item?mode=item&key=yale.apis.3100100000 Pergament Paliga (Iardas in der Nähe von Dura - Europos)\n",
      "Loan on Security http://wwwapp.cc.columbia.edu/ldpd/app/apis/item?mode=item&key=yale.apis.3100130000 Pergament Dura - Europos\n",
      "Antichretic Loan http://wwwapp.cc.columbia.edu/ldpd/app/apis/item?mode=item&key=yale.apis.3100320000 Pergament Ossa (in der Nähe von Dura - Europos)\n",
      "Acknowledgement of Indebtedness http://wwwapp.cc.columbia.edu/ldpd/app/apis/item?mode=item&key=yale.apis.3100260000 Pergament Dura - Europos\n",
      "Fragmentary Contract http://wwwapp.cc.columbia.edu/ldpd/app/apis/item?mode=item&key=yale.apis.3100340000 Pergament Dura - Europos\n",
      "Registry Roll of Copies None Leder Dura - Europos\n",
      "Fragmentary Contract http://wwwapp.cc.columbia.edu/ldpd/app/apis/item?mode=item&key=yale.apis.4400820000 Papyrus Dura - Europos\n",
      "Private Letter from a Soldier http://wwwapp.cc.columbia.edu/ldpd/app/apis/item?mode=item&key=yale.apis.4400750000 Papyrus Antiocheia\n",
      "Assessment of the Tribe of Zebeinas None Pergament Dura - Europos\n",
      "List of Arabs http://wwwapp.cc.columbia.edu/ldpd/app/apis/item?mode=item&key=yale.apis.3100300000 Pergament Dura - Europos\n",
      "Fragmentary List of Names None Pergament Dura - Europos\n",
      "Greek Fragment http://wwwapp.cc.columbia.edu/ldpd/app/apis/item?mode=item&key=yale.apis.3100180000 Pergament Dura - Europos\n",
      "Fragmentary Contract http://wwwapp.cc.columbia.edu/ldpd/app/apis/item?mode=item&key=yale.apis.3100270000 Pergament Dura - Europos\n",
      "Extract from the Registry Law of Succession None Pergament / Leder Dura - Europos\n",
      "List of Names http://wwwapp.cc.columbia.edu/ldpd/app/apis/item?mode=item&key=yale.apis.3100160000 Pergament Dura - Europos\n",
      "Inventory of Personal Effects None Pergament/ Leder Dura - Europos\n",
      "Summary of Dispositions of Soldiers None Pergament Dura - Europos\n",
      "Guard Roster?. Centuries and Numerals http://wwwapp.cc.columbia.edu/ldpd/app/apis/item?mode=item&key=yale.apis.3100170000 Pergament Dura - Europos\n",
      "Guard Roster http://wwwapp.cc.columbia.edu/ldpd/app/apis/item?mode=item&key=yale.apis.3100140000 Pergament Dura - Europos\n",
      "Guard Roster http://wwwapp.cc.columbia.edu/ldpd/app/apis/item?mode=item&key=yale.apis.3100190000 Pergament Dura - Europos\n",
      "Uncertain Fragment http://wwwapp.cc.columbia.edu/ldpd/app/apis/item?mode=item&key=yale.apis.3100150000 Pergament Dura - Europos\n",
      "Syriac Deed of Sale http://wwwapp.cc.columbia.edu/ldpd/app/apis/item?mode=item&key=yale.apis.3100200000 Pergament Dura - Europos\n",
      "Entfernungsangaben für eine römische Straße None Pergament Dura - Europos\n",
      "List of Women None Pergament Dura - Europos\n",
      "TM 60015 None papyrus Found: Doura (Mesopotamia, Syria); written: Doura (Mesopotamia, Syria)\n",
      "P. Dura. 4 None papyrus Found: Doura (Mesopotamia, Syria); written: Doura (Mesopotamia, Syria)\n",
      "P. Dura. 6 None papyrus Found: Doura (Mesopotamia, Syria); written: Doura (Mesopotamia, Syria)\n",
      "P. Dura. 5 None papyrus Found: Doura (Mesopotamia, Syria); written: Doura (Mesopotamia, Syria)\n",
      "TM 59208 None papyrus Found: Doura (Mesopotamia, Syria); written: Doura (Mesopotamia, Syria)\n",
      "TM 64014 None papyrus Found: Doura (Mesopotamia, Syria); written: Doura (Mesopotamia, Syria)\n",
      "P. Dura. 9 None papyrus Found: Doura (Mesopotamia, Syria); written: Doura (Mesopotamia, Syria)\n",
      "P. Dura. 8 None papyrus Found: Doura (Mesopotamia, Syria); written: Doura (Mesopotamia, Syria)\n",
      "P. Dura. 3 None parchment Found: Doura (Mesopotamia, Syria); written: Doura (Mesopotamia, Syria)\n",
      "P. Dura. 11 None parchment Found: Doura (Mesopotamia, Syria); written: Doura (Mesopotamia, Syria)\n",
      "keiner http://wwwapp.cc.columbia.edu/ldpd/app/apis/item?mode=item&key=yale.apis.4400130031 Papyrus Dura - Europos\n"
     ]
    }
   ],
   "source": [
    "for item_id in xmls.keys():\n",
    "    content = get_content(item_id)\n",
    "    url = get_img_url(item_id)\n",
    "    material = get_material(item_id)\n",
    "    origin = get_origin(item_id)\n",
    "    print(content,url,material,origin)"
   ]
  },
  {
   "cell_type": "code",
   "execution_count": 64,
   "id": "c6d6dd63",
   "metadata": {},
   "outputs": [
    {
     "data": {
      "text/plain": [
       "'http://wwwapp.cc.columbia.edu/ldpd/app/apis/item?mode=item&key=yale.apis.4400970000'"
      ]
     },
     "execution_count": 64,
     "metadata": {},
     "output_type": "execute_result"
    }
   ],
   "source": [
    "xmls[item_id]['TEI']['text']['body']['div'][2]['p']['figure'][0]['graphic']['@url']"
   ]
  },
  {
   "cell_type": "markdown",
   "id": "21b5113a",
   "metadata": {},
   "source": [
    "## Old Code"
   ]
  },
  {
   "cell_type": "code",
   "execution_count": 5,
   "id": "bdf47169",
   "metadata": {},
   "outputs": [
    {
     "name": "stderr",
     "output_type": "stream",
     "text": [
      "100%|█████████████████████████████████████████| 189/189 [00:59<00:00,  3.16it/s]\n"
     ]
    }
   ],
   "source": [
    "data = pd.read_csv('Starting Data.xlsx - Sheet1.csv')\n",
    "ids = data[\"ID\"][:-3]\n",
    "\n",
    "xmls = {}\n",
    "failed_ids = []\n",
    "\n",
    "for id_ in tqdm(ids):\n",
    "    \n",
    "    try:\n",
    "    \n",
    "        content = requests.get(f\"https://papyri.info/trismegistos/{id_}\").content\n",
    "        soup = BeautifulSoup(content)\n",
    "        url = soup.find(\"a\",class_=\"xml\")['href']\n",
    "\n",
    "        if 'github' in url:\n",
    "            url = url.replace('github.com', 'raw.githubusercontent.com')\n",
    "            url = url.replace('/blob','')\n",
    "\n",
    "        else:\n",
    "            url = \"https://papyri.info\" + url\n",
    "\n",
    "        response = requests.get(url)\n",
    "        xmls[id_] = xmltodict.parse(response.content)\n",
    "        \n",
    "        \n",
    "    except:\n",
    "        \n",
    "        failed_ids += [id_]\n",
    "    "
   ]
  },
  {
   "cell_type": "code",
   "execution_count": 7,
   "id": "77f27982",
   "metadata": {},
   "outputs": [
    {
     "data": {
      "text/plain": [
       "104"
      ]
     },
     "execution_count": 7,
     "metadata": {},
     "output_type": "execute_result"
    }
   ],
   "source": [
    "len(failed_ids)"
   ]
  },
  {
   "cell_type": "code",
   "execution_count": null,
   "id": "d2cdebe9",
   "metadata": {},
   "outputs": [],
   "source": []
  }
 ],
 "metadata": {
  "kernelspec": {
   "display_name": "Python 3 (ipykernel)",
   "language": "python",
   "name": "python3"
  },
  "language_info": {
   "codemirror_mode": {
    "name": "ipython",
    "version": 3
   },
   "file_extension": ".py",
   "mimetype": "text/x-python",
   "name": "python",
   "nbconvert_exporter": "python",
   "pygments_lexer": "ipython3",
   "version": "3.9.5"
  }
 },
 "nbformat": 4,
 "nbformat_minor": 5
}
